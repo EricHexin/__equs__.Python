{
 "cells": [
  {
   "cell_type": "code",
   "execution_count": 1,
   "metadata": {},
   "outputs": [],
   "source": [
    "import scipy"
   ]
  },
  {
   "cell_type": "code",
   "execution_count": 4,
   "metadata": {},
   "outputs": [
    {
     "name": "stdout",
     "output_type": "stream",
     "text": [
      "\u001b[1;31mSignature:\u001b[0m\n",
      "\u001b[0mscipy\u001b[0m\u001b[1;33m.\u001b[0m\u001b[0moptimize\u001b[0m\u001b[1;33m.\u001b[0m\u001b[0mcurve_fit\u001b[0m\u001b[1;33m(\u001b[0m\u001b[1;33m\n",
      "\u001b[0m    \u001b[0mf\u001b[0m\u001b[1;33m,\u001b[0m\u001b[1;33m\n",
      "\u001b[0m    \u001b[0mxdata\u001b[0m\u001b[1;33m,\u001b[0m\u001b[1;33m\n",
      "\u001b[0m    \u001b[0mydata\u001b[0m\u001b[1;33m,\u001b[0m\u001b[1;33m\n",
      "\u001b[0m    \u001b[0mp0\u001b[0m\u001b[1;33m=\u001b[0m\u001b[1;32mNone\u001b[0m\u001b[1;33m,\u001b[0m\u001b[1;33m\n",
      "\u001b[0m    \u001b[0msigma\u001b[0m\u001b[1;33m=\u001b[0m\u001b[1;32mNone\u001b[0m\u001b[1;33m,\u001b[0m\u001b[1;33m\n",
      "\u001b[0m    \u001b[0mabsolute_sigma\u001b[0m\u001b[1;33m=\u001b[0m\u001b[1;32mFalse\u001b[0m\u001b[1;33m,\u001b[0m\u001b[1;33m\n",
      "\u001b[0m    \u001b[0mcheck_finite\u001b[0m\u001b[1;33m=\u001b[0m\u001b[1;32mTrue\u001b[0m\u001b[1;33m,\u001b[0m\u001b[1;33m\n",
      "\u001b[0m    \u001b[0mbounds\u001b[0m\u001b[1;33m=\u001b[0m\u001b[1;33m(\u001b[0m\u001b[1;33m-\u001b[0m\u001b[0minf\u001b[0m\u001b[1;33m,\u001b[0m \u001b[0minf\u001b[0m\u001b[1;33m)\u001b[0m\u001b[1;33m,\u001b[0m\u001b[1;33m\n",
      "\u001b[0m    \u001b[0mmethod\u001b[0m\u001b[1;33m=\u001b[0m\u001b[1;32mNone\u001b[0m\u001b[1;33m,\u001b[0m\u001b[1;33m\n",
      "\u001b[0m    \u001b[0mjac\u001b[0m\u001b[1;33m=\u001b[0m\u001b[1;32mNone\u001b[0m\u001b[1;33m,\u001b[0m\u001b[1;33m\n",
      "\u001b[0m    \u001b[1;33m*\u001b[0m\u001b[1;33m,\u001b[0m\u001b[1;33m\n",
      "\u001b[0m    \u001b[0mfull_output\u001b[0m\u001b[1;33m=\u001b[0m\u001b[1;32mFalse\u001b[0m\u001b[1;33m,\u001b[0m\u001b[1;33m\n",
      "\u001b[0m    \u001b[1;33m**\u001b[0m\u001b[0mkwargs\u001b[0m\u001b[1;33m,\u001b[0m\u001b[1;33m\n",
      "\u001b[0m\u001b[1;33m)\u001b[0m\u001b[1;33m\u001b[0m\u001b[1;33m\u001b[0m\u001b[0m\n",
      "\u001b[1;31mDocstring:\u001b[0m\n",
      "Use non-linear least squares to fit a function, f, to data.\n",
      "\n",
      "Assumes ``ydata = f(xdata, *params) + eps``.\n",
      "\n",
      "Parameters\n",
      "----------\n",
      "f : callable\n",
      "    The model function, f(x, ...). It must take the independent\n",
      "    variable as the first argument and the parameters to fit as\n",
      "    separate remaining arguments.\n",
      "xdata : array_like or object\n",
      "    The independent variable where the data is measured.\n",
      "    Should usually be an M-length sequence or an (k,M)-shaped array for\n",
      "    functions with k predictors, but can actually be any object.\n",
      "ydata : array_like\n",
      "    The dependent data, a length M array - nominally ``f(xdata, ...)``.\n",
      "p0 : array_like, optional\n",
      "    Initial guess for the parameters (length N). If None, then the\n",
      "    initial values will all be 1 (if the number of parameters for the\n",
      "    function can be determined using introspection, otherwise a\n",
      "    ValueError is raised).\n",
      "sigma : None or M-length sequence or MxM array, optional\n",
      "    Determines the uncertainty in `ydata`. If we define residuals as\n",
      "    ``r = ydata - f(xdata, *popt)``, then the interpretation of `sigma`\n",
      "    depends on its number of dimensions:\n",
      "\n",
      "        - A 1-D `sigma` should contain values of standard deviations of\n",
      "          errors in `ydata`. In this case, the optimized function is\n",
      "          ``chisq = sum((r / sigma) ** 2)``.\n",
      "\n",
      "        - A 2-D `sigma` should contain the covariance matrix of\n",
      "          errors in `ydata`. In this case, the optimized function is\n",
      "          ``chisq = r.T @ inv(sigma) @ r``.\n",
      "\n",
      "          .. versionadded:: 0.19\n",
      "\n",
      "    None (default) is equivalent of 1-D `sigma` filled with ones.\n",
      "absolute_sigma : bool, optional\n",
      "    If True, `sigma` is used in an absolute sense and the estimated parameter\n",
      "    covariance `pcov` reflects these absolute values.\n",
      "\n",
      "    If False (default), only the relative magnitudes of the `sigma` values matter.\n",
      "    The returned parameter covariance matrix `pcov` is based on scaling\n",
      "    `sigma` by a constant factor. This constant is set by demanding that the\n",
      "    reduced `chisq` for the optimal parameters `popt` when using the\n",
      "    *scaled* `sigma` equals unity. In other words, `sigma` is scaled to\n",
      "    match the sample variance of the residuals after the fit. Default is False.\n",
      "    Mathematically,\n",
      "    ``pcov(absolute_sigma=False) = pcov(absolute_sigma=True) * chisq(popt)/(M-N)``\n",
      "check_finite : bool, optional\n",
      "    If True, check that the input arrays do not contain nans of infs,\n",
      "    and raise a ValueError if they do. Setting this parameter to\n",
      "    False may silently produce nonsensical results if the input arrays\n",
      "    do contain nans. Default is True.\n",
      "bounds : 2-tuple of array_like, optional\n",
      "    Lower and upper bounds on parameters. Defaults to no bounds.\n",
      "    Each element of the tuple must be either an array with the length equal\n",
      "    to the number of parameters, or a scalar (in which case the bound is\n",
      "    taken to be the same for all parameters). Use ``np.inf`` with an\n",
      "    appropriate sign to disable bounds on all or some parameters.\n",
      "\n",
      "    .. versionadded:: 0.17\n",
      "method : {'lm', 'trf', 'dogbox'}, optional\n",
      "    Method to use for optimization. See `least_squares` for more details.\n",
      "    Default is 'lm' for unconstrained problems and 'trf' if `bounds` are\n",
      "    provided. The method 'lm' won't work when the number of observations\n",
      "    is less than the number of variables, use 'trf' or 'dogbox' in this\n",
      "    case.\n",
      "\n",
      "    .. versionadded:: 0.17\n",
      "jac : callable, string or None, optional\n",
      "    Function with signature ``jac(x, ...)`` which computes the Jacobian\n",
      "    matrix of the model function with respect to parameters as a dense\n",
      "    array_like structure. It will be scaled according to provided `sigma`.\n",
      "    If None (default), the Jacobian will be estimated numerically.\n",
      "    String keywords for 'trf' and 'dogbox' methods can be used to select\n",
      "    a finite difference scheme, see `least_squares`.\n",
      "\n",
      "    .. versionadded:: 0.18\n",
      "full_output : boolean, optional\n",
      "    If True, this function returns additioal information: `infodict`,\n",
      "    `mesg`, and `ier`.\n",
      "\n",
      "    .. versionadded:: 1.9\n",
      "**kwargs\n",
      "    Keyword arguments passed to `leastsq` for ``method='lm'`` or\n",
      "    `least_squares` otherwise.\n",
      "\n",
      "Returns\n",
      "-------\n",
      "popt : array\n",
      "    Optimal values for the parameters so that the sum of the squared\n",
      "    residuals of ``f(xdata, *popt) - ydata`` is minimized.\n",
      "pcov : 2-D array\n",
      "    The estimated covariance of popt. The diagonals provide the variance\n",
      "    of the parameter estimate. To compute one standard deviation errors\n",
      "    on the parameters use ``perr = np.sqrt(np.diag(pcov))``.\n",
      "\n",
      "    How the `sigma` parameter affects the estimated covariance\n",
      "    depends on `absolute_sigma` argument, as described above.\n",
      "\n",
      "    If the Jacobian matrix at the solution doesn't have a full rank, then\n",
      "    'lm' method returns a matrix filled with ``np.inf``, on the other hand\n",
      "    'trf'  and 'dogbox' methods use Moore-Penrose pseudoinverse to compute\n",
      "    the covariance matrix.\n",
      "infodict : dict (returned only if `full_output` is True)\n",
      "    a dictionary of optional outputs with the keys:\n",
      "\n",
      "    ``nfev``\n",
      "        The number of function calls. Methods 'trf' and 'dogbox' do not\n",
      "        count function calls for numerical Jacobian approximation,\n",
      "        as opposed to 'lm' method.\n",
      "    ``fvec``\n",
      "        The function values evaluated at the solution.\n",
      "    ``fjac``\n",
      "        A permutation of the R matrix of a QR\n",
      "        factorization of the final approximate\n",
      "        Jacobian matrix, stored column wise.\n",
      "        Together with ipvt, the covariance of the\n",
      "        estimate can be approximated.\n",
      "        Method 'lm' only provides this information.\n",
      "    ``ipvt``\n",
      "        An integer array of length N which defines\n",
      "        a permutation matrix, p, such that\n",
      "        fjac*p = q*r, where r is upper triangular\n",
      "        with diagonal elements of nonincreasing\n",
      "        magnitude. Column j of p is column ipvt(j)\n",
      "        of the identity matrix.\n",
      "        Method 'lm' only provides this information.\n",
      "    ``qtf``\n",
      "        The vector (transpose(q) * fvec).\n",
      "        Method 'lm' only provides this information.\n",
      "\n",
      "    .. versionadded:: 1.9\n",
      "mesg : str (returned only if `full_output` is True)\n",
      "    A string message giving information about the solution.\n",
      "\n",
      "    .. versionadded:: 1.9\n",
      "ier : int (returnned only if `full_output` is True)\n",
      "    An integer flag. If it is equal to 1, 2, 3 or 4, the solution was\n",
      "    found. Otherwise, the solution was not found. In either case, the\n",
      "    optional output variable `mesg` gives more information.\n",
      "\n",
      "    .. versionadded:: 1.9\n",
      "\n",
      "Raises\n",
      "------\n",
      "ValueError\n",
      "    if either `ydata` or `xdata` contain NaNs, or if incompatible options\n",
      "    are used.\n",
      "\n",
      "RuntimeError\n",
      "    if the least-squares minimization fails.\n",
      "\n",
      "OptimizeWarning\n",
      "    if covariance of the parameters can not be estimated.\n",
      "\n",
      "See Also\n",
      "--------\n",
      "least_squares : Minimize the sum of squares of nonlinear functions.\n",
      "scipy.stats.linregress : Calculate a linear least squares regression for\n",
      "                         two sets of measurements.\n",
      "\n",
      "Notes\n",
      "-----\n",
      "Users should ensure that inputs `xdata`, `ydata`, and the output of `f`\n",
      "are ``float64``, or else the optimization may return incorrect results.\n",
      "\n",
      "With ``method='lm'``, the algorithm uses the Levenberg-Marquardt algorithm\n",
      "through `leastsq`. Note that this algorithm can only deal with\n",
      "unconstrained problems.\n",
      "\n",
      "Box constraints can be handled by methods 'trf' and 'dogbox'. Refer to\n",
      "the docstring of `least_squares` for more information.\n",
      "\n",
      "Examples\n",
      "--------\n",
      ">>> import matplotlib.pyplot as plt\n",
      ">>> from scipy.optimize import curve_fit\n",
      "\n",
      ">>> def func(x, a, b, c):\n",
      "...     return a * np.exp(-b * x) + c\n",
      "\n",
      "Define the data to be fit with some noise:\n",
      "\n",
      ">>> xdata = np.linspace(0, 4, 50)\n",
      ">>> y = func(xdata, 2.5, 1.3, 0.5)\n",
      ">>> rng = np.random.default_rng()\n",
      ">>> y_noise = 0.2 * rng.normal(size=xdata.size)\n",
      ">>> ydata = y + y_noise\n",
      ">>> plt.plot(xdata, ydata, 'b-', label='data')\n",
      "\n",
      "Fit for the parameters a, b, c of the function `func`:\n",
      "\n",
      ">>> popt, pcov = curve_fit(func, xdata, ydata)\n",
      ">>> popt\n",
      "array([2.56274217, 1.37268521, 0.47427475])\n",
      ">>> plt.plot(xdata, func(xdata, *popt), 'r-',\n",
      "...          label='fit: a=%5.3f, b=%5.3f, c=%5.3f' % tuple(popt))\n",
      "\n",
      "Constrain the optimization to the region of ``0 <= a <= 3``,\n",
      "``0 <= b <= 1`` and ``0 <= c <= 0.5``:\n",
      "\n",
      ">>> popt, pcov = curve_fit(func, xdata, ydata, bounds=(0, [3., 1., 0.5]))\n",
      ">>> popt\n",
      "array([2.43736712, 1.        , 0.34463856])\n",
      ">>> plt.plot(xdata, func(xdata, *popt), 'g--',\n",
      "...          label='fit: a=%5.3f, b=%5.3f, c=%5.3f' % tuple(popt))\n",
      "\n",
      ">>> plt.xlabel('x')\n",
      ">>> plt.ylabel('y')\n",
      ">>> plt.legend()\n",
      ">>> plt.show()\n",
      "\u001b[1;31mFile:\u001b[0m      c:\\programdata\\anaconda3\\envs\\qiskit_env\\lib\\site-packages\\scipy\\optimize\\_minpack_py.py\n",
      "\u001b[1;31mType:\u001b[0m      function\n"
     ]
    }
   ],
   "source": [
    "?scipy.optimize.curve_fit"
   ]
  },
  {
   "cell_type": "code",
   "execution_count": 14,
   "metadata": {},
   "outputs": [
    {
     "data": {
      "text/plain": [
       "array([-0.96205046,  0.93573826,  0.88071191,  0.77787492,  0.6050894 ])"
      ]
     },
     "execution_count": 14,
     "metadata": {},
     "output_type": "execute_result"
    }
   ],
   "source": [
    "from scipy import optimize\n",
    "\n",
    "data_x0 = [2.1, 0.5, 0.9, 1.7, 1.1]\n",
    "result = optimize.minimize(optimize.rosen, data_x0, method='Nelder-Mead', tol=1e-5)\n",
    "result.x"
   ]
  },
  {
   "cell_type": "code",
   "execution_count": 2,
   "metadata": {},
   "outputs": [],
   "source": [
    "import numpy as np\n",
    "def gaussian_fun(x, a, b):\n",
    "    return 1/a*np.exp(-(x-b)**2/a**2)\n"
   ]
  },
  {
   "cell_type": "code",
   "execution_count": 11,
   "metadata": {},
   "outputs": [
    {
     "data": {
      "text/plain": [
       "[<matplotlib.lines.Line2D at 0x252199bde40>]"
      ]
     },
     "execution_count": 11,
     "metadata": {},
     "output_type": "execute_result"
    },
    {
     "data": {
      "image/png": "[encoded data removed]",
      "text/plain": [
       "<Figure size 640x480 with 1 Axes>"
      ]
     },
     "metadata": {},
     "output_type": "display_data"
    }
   ],
   "source": [
    "x = np.arange(-20,20, 0.2)\n",
    "y = gaussian_fun(x, 7, 0)\n",
    "\n",
    "import matplotlib.pyplot as plt\n",
    "plt.plot(x,y)"
   ]
  },
  {
   "cell_type": "code",
   "execution_count": 2,
   "metadata": {},
   "outputs": [],
   "source": [
    "class Employee:\n",
    "    count = 0 # public variable\n",
    "    __raise_amt = 1.04 # private\n",
    "    ID_num = 0\n",
    "\n",
    "    def __init__(self, first, last, pay):\n",
    "        self.first = first\n",
    "        self.last = last\n",
    "        self.pay = pay\n",
    "        self.email = first + '.' + last + '@email..com'\n",
    "        Employee.count +=1 # class variable, not instance variable: self.count\n",
    "        self.ID_num = Employee.count\n",
    "\n",
    "    def fullname(self):\n",
    "        return '{} {}'.format(self.first, self.last)\n",
    "\n",
    "    def apply_raise(self):\n",
    "        self.pay = int(self.pay*self.__raise_amt)\n",
    "        "
   ]
  },
  {
   "cell_type": "code",
   "execution_count": 3,
   "metadata": {},
   "outputs": [],
   "source": [
    "James = Employee('James', 'Bennet', '100000')"
   ]
  },
  {
   "cell_type": "code",
   "execution_count": 4,
   "metadata": {},
   "outputs": [
    {
     "data": {
      "text/plain": [
       "'James Bennet'"
      ]
     },
     "execution_count": 4,
     "metadata": {},
     "output_type": "execute_result"
    }
   ],
   "source": [
    "James.fullname()"
   ]
  },
  {
   "cell_type": "code",
   "execution_count": 5,
   "metadata": {},
   "outputs": [
    {
     "name": "stdout",
     "output_type": "stream",
     "text": [
      "employee count:1\n",
      "employee count:2\n"
     ]
    }
   ],
   "source": [
    "print('employee count:' + str(James.count))\n",
    "Alice = Employee(\"Alice\", 'Davis', '100000')\n",
    "print('employee count:' + str(James.count))"
   ]
  },
  {
   "cell_type": "code",
   "execution_count": 6,
   "metadata": {},
   "outputs": [
    {
     "name": "stdout",
     "output_type": "stream",
     "text": [
      "employee ID:1\n",
      "employee ID:2\n"
     ]
    }
   ],
   "source": [
    "print('employee ID:' + str(James.ID_num))\n",
    "\n",
    "print('employee ID:' + str(Alice.ID_num))\n"
   ]
  },
  {
   "cell_type": "code",
   "execution_count": 7,
   "metadata": {},
   "outputs": [
    {
     "name": "stdout",
     "output_type": "stream",
     "text": [
      "employee ID:2\n",
      "employee ID:3\n"
     ]
    }
   ],
   "source": [
    "Bob = Employee(\"Bob\", 'Sanchez', '100000')\n",
    "print('employee ID:' + str(Alice.ID_num))\n",
    "print('employee ID:' + str(Bob.ID_num))"
   ]
  },
  {
   "cell_type": "code",
   "execution_count": null,
   "metadata": {},
   "outputs": [],
   "source": []
  }
 ],
 "metadata": {
  "kernelspec": {
   "display_name": "Python 3.10.4 ('qiskit_env')",
   "language": "python",
   "name": "python3"
  },
  "language_info": {
   "codemirror_mode": {
    "name": "ipython",
    "version": 3
   },
   "file_extension": ".py",
   "mimetype": "text/x-python",
   "name": "python",
   "nbconvert_exporter": "python",
   "pygments_lexer": "ipython3",
   "version": "3.10.4"
  },
  "orig_nbformat": 4,
  "vscode": {
   "interpreter": {
    "hash": "9329cc5bea7efd30344d8be9339dfb4d54993e089d5a3aa54599f067b3a0ebc8"
   }
  }
 },
 "nbformat": 4,
 "nbformat_minor": 2
}
